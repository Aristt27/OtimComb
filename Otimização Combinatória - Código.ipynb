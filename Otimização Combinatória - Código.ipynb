{
 "cells": [
  {
   "cell_type": "code",
   "execution_count": 1,
   "metadata": {},
   "outputs": [],
   "source": [
    "#imports\n",
    "\n",
    "using JuMP, Gurobi, GLPK, DelimitedFiles, Random"
   ]
  },
  {
   "cell_type": "markdown",
   "metadata": {},
   "source": [
    "## Relaxação Lagrangiana"
   ]
  },
  {
   "cell_type": "code",
   "execution_count": 2,
   "metadata": {},
   "outputs": [
    {
     "data": {
      "text/plain": [
       "atualize_lowerBound (generic function with 1 method)"
      ]
     },
     "execution_count": 2,
     "metadata": {},
     "output_type": "execute_result"
    }
   ],
   "source": [
    "function atualize_lowerBound(A,c,x_res,indCost)\n",
    "    \n",
    "    (m,n) = size(A)\n",
    "    I = (1:m)\n",
    "    J = (1:n)\n",
    "    x_resLower = zeros(n,1)\n",
    "    global x_res_temp = zeros(n,1)\n",
    "\n",
    "    for indice_j in indCost\n",
    "        indice_j = floor(Int,indice_j)\n",
    "        if x_res[indice_j] == 1\n",
    "            x_res_temp[indice_j] = 1\n",
    "            value_mult = A*x_res_temp \n",
    "\n",
    "            flag = 0\n",
    "            for i in I\n",
    "                if value_mult[i] > 1\n",
    "\n",
    "                    flag = 1\n",
    "                    #break\n",
    "                end\n",
    "            end\n",
    "\n",
    "            if flag == 0\n",
    "                x_resLower[indice_j] = 1\n",
    "            end\n",
    "\n",
    "            global x_res_temp = copy(x_resLower)\n",
    "\n",
    "        end\n",
    "    end\n",
    "\n",
    "    return c'*x_resLower\n",
    "\n",
    "end"
   ]
  },
  {
   "cell_type": "code",
   "execution_count": 3,
   "metadata": {},
   "outputs": [
    {
     "data": {
      "text/plain": [
       "RelaxLagrang (generic function with 3 methods)"
      ]
     },
     "execution_count": 3,
     "metadata": {},
     "output_type": "execute_result"
    }
   ],
   "source": [
    "function RelaxLagrang(A, c, maxiter = 50, tol = 1e-1)\n",
    "    spp   = Model(Gurobi.Optimizer);\n",
    "    (m,n) = size(A)\n",
    "    \n",
    "    I = (1:m)\n",
    "    J = (1:n)\n",
    "    \n",
    "    @variable(spp, x[1:n], Bin);\n",
    "    u     = 1*ones(m,1);  \n",
    "    zs = []\n",
    "    irep    = 0;\n",
    "    iter    = 0;\n",
    "    lower_b = 0;\n",
    "    upper_b = Inf;\n",
    "    \n",
    "    step_size = 0\n",
    "    grad      = zeros(m,1);\n",
    "    indCost   = zeros(1,n)\n",
    "    \n",
    "    for j1 in J\n",
    "        maior_valor = -Inf\n",
    "        for j2 in J\n",
    "            if (c[j2] >=  maior_valor) && ((j2 in indCost) == false)\n",
    "                global maior_indice = j2\n",
    "                 maior_valor = c[j2]\n",
    "            end\n",
    "        end\n",
    "        indCost[j1] = maior_indice\n",
    "    end \n",
    "    \n",
    "    \n",
    "    while iter <= maxiter && abs(upper_b - lower_b) >= tol\n",
    "        \n",
    "        iter += 1\n",
    "        u = max.(0, u - step_size*grad)\n",
    "        \n",
    "        @objective(spp, Max, sum(c.*x) - sum(u[i]* (sum(A[i,j]*x[j] for j in (1:n)) - 1) for i in (1:m)))\n",
    "        optimize!(spp)\n",
    "        \n",
    "        x_res    = value.(x)\n",
    "        soma_res = A*x_res\n",
    "        z        = objective_value(spp);\n",
    "        append!(zs, z)\n",
    "        \n",
    "        best_ub_old = upper_b;\n",
    "        upper_b = min(upper_b, z);\n",
    "        \n",
    "        if best_ub_old == upper_b\n",
    "            irep += 1;\n",
    "        else\n",
    "            irep = 0;\n",
    "            lower_b = atualize_lowerBound(A,c,x_res,indCost)[1];\n",
    "\n",
    "        end\n",
    "        \n",
    "        grad = ones(m,1) - soma_res + ones(m,1)*rand(1)/10\n",
    "        sum_g2 = sum(grad[i]^2 for i in I)\n",
    "        #step_size = (z - lower_b)/sum_g2\n",
    "        step_size = 1/iter\n",
    "        #step_size  = 0.008\n",
    "        \n",
    "    end\n",
    "    \n",
    "    return zs, iter\n",
    "end"
   ]
  },
  {
   "cell_type": "markdown",
   "metadata": {},
   "source": [
    "## Load SPP from .dat"
   ]
  },
  {
   "cell_type": "code",
   "execution_count": 4,
   "metadata": {},
   "outputs": [
    {
     "data": {
      "text/plain": [
       "loadSPP (generic function with 1 method)"
      ]
     },
     "execution_count": 4,
     "metadata": {},
     "output_type": "execute_result"
    }
   ],
   "source": [
    "function loadSPP(fname)\n",
    "    f=open(fname)\n",
    "   \n",
    "    m, n = parse.(Int, split(readline(f)))\n",
    "    C = parse.(Int, split(readline(f)))\n",
    "    A=zeros(Int, m, n)\n",
    "    for i=1:m\n",
    "        readline(f)\n",
    "        for valor in split(readline(f))\n",
    "          j = parse(Int, valor)\n",
    "          A[i,j]=1\n",
    "        end\n",
    "    end\n",
    "    close(f)\n",
    "    return C, A\n",
    "end"
   ]
  },
  {
   "cell_type": "markdown",
   "metadata": {},
   "source": [
    "## Set SPP"
   ]
  },
  {
   "cell_type": "code",
   "execution_count": 5,
   "metadata": {},
   "outputs": [
    {
     "data": {
      "text/plain": [
       "setSPP_relaxlin (generic function with 1 method)"
      ]
     },
     "execution_count": 5,
     "metadata": {},
     "output_type": "execute_result"
    }
   ],
   "source": [
    "function setSPP(solverSelected, C, A)\n",
    "  m, n = size(A)\n",
    "  ip = Model(solverSelected)\n",
    "  @variable(ip, x[1:n], Bin)\n",
    "  @objective(ip, Max, sum(C.*x))\n",
    "  @constraint(ip , cte[i=1:m], sum(A[i,j] * x[j] for j=1:n) <= 1)\n",
    "  return ip, x\n",
    "end\n",
    "\n",
    "function setSPP_relaxlin(solverSelected, C, A)\n",
    "  m, n = size(A)\n",
    "  ip = Model(solverSelected)\n",
    "  @variable(ip, 0 <= x[1:n] <= 1)\n",
    "  @objective(ip, Max, sum(C.*x))\n",
    "  @constraint(ip , cte[i=1:m], sum(A[i,j] * x[j] for j=1:n) <= 1)\n",
    "  return ip, x\n",
    "end"
   ]
  },
  {
   "cell_type": "markdown",
   "metadata": {},
   "source": [
    "## Branch and Bound"
   ]
  },
  {
   "cell_type": "markdown",
   "metadata": {},
   "source": [
    "#### Minha versão:"
   ]
  },
  {
   "cell_type": "code",
   "execution_count": 6,
   "metadata": {},
   "outputs": [
    {
     "data": {
      "text/plain": [
       "integer_test (generic function with 1 method)"
      ]
     },
     "execution_count": 6,
     "metadata": {},
     "output_type": "execute_result"
    }
   ],
   "source": [
    "function integer_test(x)\n",
    "    if floor(x)^2 - x^2 == 0\n",
    "        return 1\n",
    "    end\n",
    "    return 0\n",
    "end"
   ]
  },
  {
   "cell_type": "code",
   "execution_count": 7,
   "metadata": {},
   "outputs": [
    {
     "data": {
      "text/plain": [
       "branch_floor (generic function with 2 methods)"
      ]
     },
     "execution_count": 7,
     "metadata": {},
     "output_type": "execute_result"
    }
   ],
   "source": [
    "function branch_ceil(solverSelected, C, A, idxs = [])\n",
    "  m, n = size(A)\n",
    "  ip = Model(solverSelected)\n",
    "  @variable(ip, 0 <= x[1:n] <= 1)\n",
    "  for idx in idxs\n",
    "    @constraint(ip, x[idx] == 1)\n",
    "  end\n",
    "  @objective(ip, Max, sum(C.*x))\n",
    "  @constraint(ip , cte[i=1:m], sum(A[i,j] * x[j] for j=1:n) <= 1)\n",
    "  return ip, x\n",
    "end\n",
    "\n",
    "function branch_floor(solverSelected, C, A, idxs = [])\n",
    "  m, n = size(A)\n",
    "  ip = Model(solverSelected)\n",
    "  @variable(ip, 0 <= x[1:n] <= 1)\n",
    "  for idx in idxs\n",
    "    @constraint(ip, x[idx] == 0)\n",
    "  end\n",
    "  @objective(ip, Max, sum(C.*x))\n",
    "  @constraint(ip , cte[i=1:m], sum(A[i,j] * x[j] for j=1:n) <= 1)\n",
    "  return ip, x\n",
    "end"
   ]
  },
  {
   "cell_type": "code",
   "execution_count": 8,
   "metadata": {},
   "outputs": [
    {
     "data": {
      "text/plain": [
       "BranchNBound (generic function with 3 methods)"
      ]
     },
     "execution_count": 8,
     "metadata": {},
     "output_type": "execute_result"
    }
   ],
   "source": [
    "function BranchNBound(A, c, maxiter = 50, tol = 1e-1)\n",
    "    \n",
    "    rp, rp_x = setSPP_relaxlin(Gurobi.Optimizer, c, A)\n",
    "    nodes    = [[rp,[]]]\n",
    "    s,       = size(nodes)\n",
    "    values   = []\n",
    "    idxs     = []\n",
    "    \n",
    "    while s >= 0\n",
    "    \n",
    "        \n",
    "        if s == 0\n",
    "            break\n",
    "        end\n",
    "        \n",
    "        p,idxs   = nodes[1]\n",
    "        \n",
    "        if s == 1\n",
    "            nodes = []\n",
    "            s     = 0\n",
    "        else\n",
    "            nodes = nodes[2:s]\n",
    "            s,     = size(nodes)\n",
    "        end\n",
    "\n",
    "        \n",
    "        try\n",
    "           optimize!(p) \n",
    "        catch  \n",
    "           println(\" Modelo Infeasible. Cortem as árvores! \")\n",
    "           ss,       = size(idxs)\n",
    "           idxs      = idxs[1:ss-1]\n",
    "            \n",
    "        end\n",
    "        append!(values, objective_value(p))\n",
    "        \n",
    "        for (i,xs) in enumerate(value.((all_variables(p))))\n",
    "            if integer_test(xs) == 0\n",
    "                \n",
    "                push!(idxs, i)\n",
    "                print(\"----------> \", idxs, \" <---------\")\n",
    "                print(\" BRANCHING \")\n",
    "                \n",
    "                floor_prob, f_x = branch_floor(Gurobi.Optimizer, c, A,idxs)\n",
    "                push!(nodes, floor_prob)\n",
    "                \n",
    "                ceil_prob, c_x  =  branch_ceil(Gurobi.Optimizer, c, A,idxs)\n",
    "                push!(nodes, ceil_prob)\n",
    "                \n",
    "                s += 2\n",
    "                print(\"--> \", values, \" <---\")\n",
    "                break\n",
    "            end\n",
    "        end\n",
    "    end\n",
    "\n",
    "    return objective_value(rp), value.(rp_x), values\n",
    "end"
   ]
  },
  {
   "cell_type": "markdown",
   "metadata": {},
   "source": [
    "### Versão chamando o Gurobi"
   ]
  },
  {
   "cell_type": "code",
   "execution_count": 9,
   "metadata": {},
   "outputs": [
    {
     "data": {
      "text/plain": [
       "Branch_Bound (generic function with 1 method)"
      ]
     },
     "execution_count": 9,
     "metadata": {},
     "output_type": "execute_result"
    }
   ],
   "source": [
    "function Branch_Bound(A,c)\n",
    "    \n",
    "    rp, rp_x = setSPP(Gurobi.Optimizer, c, A)\n",
    "\n",
    "    println(\"Solving...\"); \n",
    "    set_optimizer_attribute(rp, \"Presolve\", 0)\n",
    "    set_optimizer_attribute(rp, \"Cuts\", 0)\n",
    "    set_optimizer_attribute(rp, \"Heuristics\", 0)\n",
    "    optimize!(rp) \n",
    "end"
   ]
  },
  {
   "cell_type": "markdown",
   "metadata": {},
   "source": [
    "## Branch and Cut"
   ]
  },
  {
   "cell_type": "code",
   "execution_count": 10,
   "metadata": {},
   "outputs": [
    {
     "data": {
      "text/plain": [
       "Branch_Cut (generic function with 1 method)"
      ]
     },
     "execution_count": 10,
     "metadata": {},
     "output_type": "execute_result"
    }
   ],
   "source": [
    "function Branch_Cut(A,c)\n",
    "    \n",
    "    p, p_x = setSPP(Gurobi.Optimizer, c, A)\n",
    "\n",
    "    println(\"Solving...\"); \n",
    "    set_optimizer_attribute(p, \"Presolve\", 0)\n",
    "    set_optimizer_attribute(p, \"Cuts\", 0)\n",
    "    set_optimizer_attribute(p, \"Heuristics\", 0)\n",
    "    set_optimizer_attribute(p, \"CliqueCuts\", 1) \n",
    "    optimize!(p) \n",
    "    \n",
    "end"
   ]
  },
  {
   "cell_type": "markdown",
   "metadata": {},
   "source": [
    "# Instâncias"
   ]
  },
  {
   "cell_type": "code",
   "execution_count": 11,
   "metadata": {},
   "outputs": [],
   "source": [
    "A = [1,0,0,1,0,0,0,0,0,0,0,0,0,1,0,0,1,0,0,0,0,0,0,0,0,0,1,0,0,1,0,0,0,0,0,0,\n",
    "     0,0,0,1,1,0,1,1,0,0,0,0,1,1,1,1,0,1,1,0,1,0,0,0,0,0,0,0,0,1,0,0,0,0,1,1,\n",
    "     0,0,0,0,0,0,1,1,1,1,1,1];\n",
    "\n",
    "A = reshape(A, 12,7);\n",
    "c = [1,1,1,1,1,1,1];"
   ]
  },
  {
   "cell_type": "code",
   "execution_count": 12,
   "metadata": {
    "scrolled": false
   },
   "outputs": [
    {
     "name": "stdout",
     "output_type": "stream",
     "text": [
      "Academic license - for non-commercial use only\r\n",
      "Academic license - for non-commercial use only\r\n",
      "Gurobi Optimizer version 9.0.3 build v9.0.3rc0 (win64)\r\n",
      "Optimize a model with 0 rows, 7 columns and 0 nonzeros\r\n",
      "Model fingerprint: 0x31521159\r\n",
      "Variable types: 0 continuous, 7 integer (7 binary)\r\n",
      "Coefficient statistics:\r\n",
      "  Matrix range     [0e+00, 0e+00]\r\n",
      "  Objective range  [1e+00, 6e+00]\r\n",
      "  Bounds range     [0e+00, 0e+00]\r\n",
      "  RHS range        [0e+00, 0e+00]\r\n",
      "Found heuristic solution: objective 12.0000000\r\n",
      "Presolve removed 0 rows and 7 columns\r\n",
      "Presolve time: 0.00s\r\n",
      "Presolve: All rows and columns removed\r\n",
      "\r\n",
      "Explored 0 nodes (0 simplex iterations) in 0.00 seconds\r\n",
      "Thread count was 1 (of 8 available processors)\r\n",
      "\r\n",
      "Solution count 1: 12 \r\n",
      "\r\n",
      "Optimal solution found (tolerance 1.00e-04)\r\n",
      "Best objective 1.200000000000e+01, best bound 1.200000000000e+01, gap 0.0000%\r\n",
      "Gurobi Optimizer version 9.0.3 build v9.0.3rc0 (win64)\r\n",
      "Optimize a model with 0 rows, 7 columns and 0 nonzeros\r\n",
      "Model fingerprint: 0xed12b246\r\n",
      "Variable types: 0 continuous, 7 integer (7 binary)\r\n",
      "Coefficient statistics:\r\n",
      "  Matrix range     [0e+00, 0e+00]\r\n",
      "  Objective range  [1e+00, 1e+00]\r\n",
      "  Bounds range     [0e+00, 0e+00]\r\n",
      "  RHS range        [0e+00, 0e+00]\r\n",
      "\r\n",
      "Loaded MIP start from previous solve with objective -0\r\n",
      "\r\n",
      "Presolve removed 0 rows and 7 columns\r\n",
      "Presolve time: 0.00s\r\n",
      "Presolve: All rows and columns removed\r\n",
      "\r\n",
      "Explored 0 nodes (0 simplex iterations) in 0.00 seconds\r\n",
      "Thread count was 1 (of 8 available processors)\r\n",
      "\r\n",
      "Solution count 2: 7 \r\n",
      "\r\n",
      "Optimal solution found (tolerance 1.00e-04)\r\n",
      "Best objective 7.000000000000e+00, best bound 7.000000000000e+00, gap 0.0000%\r\n",
      "Gurobi Optimizer version 9.0.3 build v9.0.3rc0 (win64)\r\n",
      "Optimize a model with 0 rows, 7 columns and 0 nonzeros\r\n",
      "Model fingerprint: 0x983e0ad1\r\n",
      "Variable types: 0 continuous, 7 integer (7 binary)\r\n",
      "Coefficient statistics:\r\n",
      "  Matrix range     [0e+00, 0e+00]\r\n",
      "  Objective range  [3e-02, 4e+00]\r\n",
      "  Bounds range     [0e+00, 0e+00]\r\n",
      "  RHS range        [0e+00, 0e+00]\r\n",
      "\r\n",
      "Loaded MIP start from previous solve with objective -2.8192\r\n",
      "\r\n",
      "Presolve removed 0 rows and 7 columns\r\n",
      "Presolve time: 0.00s\r\n",
      "Presolve: All rows and columns removed\r\n",
      "\r\n",
      "Explored 0 nodes (0 simplex iterations) in 0.00 seconds\r\n",
      "Thread count was 1 (of 8 available processors)\r\n",
      "\r\n",
      "Solution count 2: 6.88377 \r\n",
      "\r\n",
      "Optimal solution found (tolerance 1.00e-04)\r\n",
      "Best objective 6.883769617706e+00, best bound 6.883769617706e+00, gap 0.0000%\r\n",
      "Gurobi Optimizer version 9.0.3 build v9.0.3rc0 (win64)\r\n",
      "Optimize a model with 0 rows, 7 columns and 0 nonzeros\r\n",
      "Model fingerprint: 0x0ffb7b3d\r\n",
      "Variable types: 0 continuous, 7 integer (7 binary)\r\n",
      "Coefficient statistics:\r\n",
      "  Matrix range     [0e+00, 0e+00]\r\n",
      "  Objective range  [5e-02, 2e+00]\r\n",
      "  Bounds range     [0e+00, 0e+00]\r\n",
      "  RHS range        [0e+00, 0e+00]\r\n",
      "\r\n",
      "Loaded MIP start from previous solve with objective 3.78497\r\n",
      "\r\n",
      "Presolve removed 0 rows and 7 columns\r\n",
      "Presolve time: 0.00s\r\n",
      "Presolve: All rows and columns removed\r\n",
      "\r\n",
      "Explored 0 nodes (0 simplex iterations) in 0.00 seconds\r\n",
      "Thread count was 1 (of 8 available processors)\r\n",
      "\r\n",
      "Solution count 2: 4.28555 \r\n",
      "\r\n",
      "Optimal solution found (tolerance 1.00e-04)\r\n",
      "Best objective 4.285549720091e+00, best bound 4.285549720091e+00, gap 0.0000%\r\n",
      "Gurobi Optimizer version 9.0.3 build v9.0.3rc0 (win64)\r\n",
      "Optimize a model with 0 rows, 7 columns and 0 nonzeros\r\n",
      "Model fingerprint: 0xbe07e5fc\r\n",
      "Variable types: 0 continuous, 7 integer (7 binary)\r\n",
      "Coefficient statistics:\r\n",
      "  Matrix range     [0e+00, 0e+00]\r\n",
      "  Objective range  [4e-03, 2e+00]\r\n",
      "  Bounds range     [0e+00, 0e+00]\r\n",
      "  RHS range        [0e+00, 0e+00]\r\n",
      "\r\n",
      "Loaded MIP start from previous solve with objective 3.5\r\n",
      "\r\n",
      "Presolve removed 0 rows and 7 columns\r\n",
      "Presolve time: 0.00s\r\n",
      "Presolve: All rows and columns removed\r\n",
      "\r\n",
      "Explored 0 nodes (0 simplex iterations) in 0.00 seconds\r\n",
      "Thread count was 1 (of 8 available processors)\r\n",
      "\r\n",
      "Solution count 2: 4.00446 \r\n",
      "\r\n",
      "Optimal solution found (tolerance 1.00e-04)\r\n",
      "Best objective 4.004464163024e+00, best bound 4.004464163024e+00, gap 0.0000%\r\n",
      "Gurobi Optimizer version 9.0.3 build v9.0.3rc0 (win64)\r\n",
      "Optimize a model with 0 rows, 7 columns and 0 nonzeros\r\n",
      "Model fingerprint: 0xe55d0e94\r\n",
      "Variable types: 0 continuous, 7 integer (7 binary)\r\n",
      "Coefficient statistics:\r\n",
      "  Matrix range     [0e+00, 0e+00]\r\n",
      "  Objective range  [7e-02, 1e+00]\r\n",
      "  Bounds range     [0e+00, 0e+00]\r\n",
      "  RHS range        [0e+00, 0e+00]\r\n",
      "\r\n",
      "Loaded MIP start from previous solve with objective 3.67533\r\n",
      "\r\n",
      "Presolve removed 0 rows and 7 columns\r\n",
      "Presolve time: 0.00s\r\n",
      "Presolve: All rows and columns removed\r\n",
      "\r\n",
      "Explored 0 nodes (0 simplex iterations) in 0.00 seconds\r\n",
      "Thread count was 1 (of 8 available processors)\r\n",
      "\r\n",
      "Solution count 2: 4.07401 \r\n",
      "\r\n",
      "Optimal solution found (tolerance 1.00e-04)\r\n",
      "Best objective 4.074013433634e+00, best bound 4.074013433634e+00, gap 0.0000%\r\n",
      "Gurobi Optimizer version 9.0.3 build v9.0.3rc0 (win64)\r\n",
      "Optimize a model with 0 rows, 7 columns and 0 nonzeros\r\n",
      "Model fingerprint: 0xb648beea\r\n",
      "Variable types: 0 continuous, 7 integer (7 binary)\r\n",
      "Coefficient statistics:\r\n",
      "  Matrix range     [0e+00, 0e+00]\r\n",
      "  Objective range  [4e-02, 1e+00]\r\n",
      "  Bounds range     [0e+00, 0e+00]\r\n",
      "  RHS range        [0e+00, 0e+00]\r\n",
      "\r\n",
      "Loaded MIP start from previous solve with objective 3.5743\r\n",
      "\r\n",
      "Presolve removed 0 rows and 7 columns\r\n",
      "Presolve time: 0.00s\r\n",
      "Presolve: All rows and columns removed\r\n",
      "\r\n",
      "Explored 0 nodes (0 simplex iterations) in 0.00 seconds\r\n",
      "Thread count was 1 (of 8 available processors)\r\n",
      "\r\n",
      "Solution count 2: 4 \r\n",
      "\r\n",
      "Optimal solution found (tolerance 1.00e-04)\r\n",
      "Best objective 4.000000000000e+00, best bound 4.000000000000e+00, gap 0.0000%\r\n"
     ]
    },
    {
     "data": {
      "text/plain": [
       "(Any[12.0, 7.0, 6.883769617706012, 4.285549720090757, 4.004464163024389, 4.074013433633763, 4.0], 7)"
      ]
     },
     "execution_count": 12,
     "metadata": {},
     "output_type": "execute_result"
    }
   ],
   "source": [
    "RelaxLagrang(A,c)"
   ]
  },
  {
   "cell_type": "code",
   "execution_count": 13,
   "metadata": {},
   "outputs": [
    {
     "name": "stdout",
     "output_type": "stream",
     "text": [
      "Academic license - for non-commercial use only\n",
      "Solving...\n",
      "Academic license - for non-commercial use only\n",
      "Gurobi Optimizer version 9.0.3 build v9.0.3rc0 (win64)\n",
      "Optimize a model with 12 rows, 7 columns and 26 nonzeros\n",
      "Model fingerprint: 0xdba4e680\n",
      "Variable types: 0 continuous, 7 integer (7 binary)\n",
      "Coefficient statistics:\n",
      "  Matrix range     [1e+00, 1e+00]\n",
      "  Objective range  [1e+00, 1e+00]\n",
      "  Bounds range     [0e+00, 0e+00]\n",
      "  RHS range        [1e+00, 1e+00]\n",
      "Variable types: 0 continuous, 7 integer (7 binary)\n",
      "\n",
      "Root relaxation: objective 4.000000e+00, 0 iterations, 0.00 seconds\n",
      "\n",
      "    Nodes    |    Current Node    |     Objective Bounds      |     Work\n",
      " Expl Unexpl |  Obj  Depth IntInf | Incumbent    BestBd   Gap | It/Node Time\n",
      "\n",
      "*    0     0               0       4.0000000    4.00000  0.00%     -    0s\n",
      "\n",
      "Explored 0 nodes (0 simplex iterations) in 0.00 seconds\n",
      "Thread count was 8 (of 8 available processors)\n",
      "\n",
      "Solution count 1: 4 \n",
      "\n",
      "Optimal solution found (tolerance 1.00e-04)\n",
      "Best objective 4.000000000000e+00, best bound 4.000000000000e+00, gap 0.0000%\n"
     ]
    }
   ],
   "source": [
    "Branch_Bound(A,c)"
   ]
  },
  {
   "cell_type": "code",
   "execution_count": 14,
   "metadata": {
    "scrolled": false
   },
   "outputs": [
    {
     "name": "stdout",
     "output_type": "stream",
     "text": [
      "Academic license - for non-commercial use only\r\n",
      "Solving...\n",
      "Academic license - for non-commercial use only\r\n",
      "Gurobi Optimizer version 9.0.3 build v9.0.3rc0 (win64)\r\n",
      "Optimize a model with 12 rows, 7 columns and 26 nonzeros\r\n",
      "Model fingerprint: 0xdba4e680\r\n",
      "Variable types: 0 continuous, 7 integer (7 binary)\r\n",
      "Coefficient statistics:\r\n",
      "  Matrix range     [1e+00, 1e+00]\r\n",
      "  Objective range  [1e+00, 1e+00]\r\n",
      "  Bounds range     [0e+00, 0e+00]\r\n",
      "  RHS range        [1e+00, 1e+00]\r\n",
      "Variable types: 0 continuous, 7 integer (7 binary)\r\n",
      "\r\n",
      "Root relaxation: objective 4.000000e+00, 0 iterations, 0.00 seconds\r\n",
      "\r\n",
      "    Nodes    |    Current Node    |     Objective Bounds      |     Work\r\n",
      " Expl Unexpl |  Obj  Depth IntInf | Incumbent    BestBd   Gap | It/Node Time\r\n",
      "\r\n",
      "*    0     0               0       4.0000000    4.00000  0.00%     -    0s\r\n",
      "\r\n",
      "Explored 0 nodes (0 simplex iterations) in 0.00 seconds\r\n",
      "Thread count was 8 (of 8 available processors)\r\n",
      "\r\n",
      "Solution count 1: 4 \r\n",
      "\r\n",
      "Optimal solution found (tolerance 1.00e-04)\r\n",
      "Best objective 4.000000000000e+00, best bound 4.000000000000e+00, gap 0.0000%\r\n"
     ]
    }
   ],
   "source": [
    "Branch_Cut(A,c)"
   ]
  },
  {
   "cell_type": "markdown",
   "metadata": {},
   "source": [
    "## Instâncias Maiores"
   ]
  },
  {
   "cell_type": "code",
   "execution_count": 15,
   "metadata": {},
   "outputs": [],
   "source": [
    "fname = \"Instances\\\\Data\\\\pb_100rnd0100.dat\"; \n",
    "c, A = loadSPP(fname);"
   ]
  },
  {
   "cell_type": "code",
   "execution_count": 16,
   "metadata": {},
   "outputs": [
    {
     "name": "stdout",
     "output_type": "stream",
     "text": [
      "Academic license - for non-commercial use only\n",
      "Solving...\n",
      "Academic license - for non-commercial use only\n",
      "Gurobi Optimizer version 9.0.3 build v9.0.3rc0 (win64)\n",
      "Optimize a model with 500 rows, 100 columns and 1000 nonzeros\n",
      "Model fingerprint: 0x3c1811da\n",
      "Variable types: 0 continuous, 100 integer (100 binary)\n",
      "Coefficient statistics:\n",
      "  Matrix range     [1e+00, 1e+00]\n",
      "  Objective range  [1e+00, 2e+01]\n",
      "  Bounds range     [0e+00, 0e+00]\n",
      "  RHS range        [1e+00, 1e+00]\n",
      "Variable types: 0 continuous, 100 integer (100 binary)\n",
      "\n",
      "Root relaxation: objective 5.145000e+02, 63 iterations, 0.00 seconds\n",
      "\n",
      "    Nodes    |    Current Node    |     Objective Bounds      |     Work\n",
      " Expl Unexpl |  Obj  Depth IntInf | Incumbent    BestBd   Gap | It/Node Time\n",
      "\n",
      "     0     0  514.50000    0   97          -  514.50000      -     -    0s\n",
      "     0     0  406.60000    0   90          -  406.60000      -     -    0s\n",
      "     0     0  406.14286    0   90          -  406.14286      -     -    0s\n",
      "     0     0  406.14286    0   91          -  406.14286      -     -    0s\n",
      "     0     0  406.14286    0   91          -  406.14286      -     -    0s\n",
      "     0     2  406.14286    0   91          -  406.14286      -     -    0s\n",
      "*   21    22               5     372.0000000  394.74468  6.11%  20.1    0s\n",
      "\n",
      "Cutting planes:\n",
      "  Clique: 58\n",
      "\n",
      "Explored 92 nodes (1519 simplex iterations) in 0.05 seconds\n",
      "Thread count was 8 (of 8 available processors)\n",
      "\n",
      "Solution count 1: 372 \n",
      "\n",
      "Optimal solution found (tolerance 1.00e-04)\n",
      "Best objective 3.720000000000e+02, best bound 3.720000000000e+02, gap 0.0000%\n"
     ]
    }
   ],
   "source": [
    "Branch_Cut(A,c)"
   ]
  },
  {
   "cell_type": "code",
   "execution_count": 17,
   "metadata": {},
   "outputs": [
    {
     "name": "stdout",
     "output_type": "stream",
     "text": [
      "Academic license - for non-commercial use only\n",
      "Solving...\n",
      "Academic license - for non-commercial use only\n",
      "Gurobi Optimizer version 9.0.3 build v9.0.3rc0 (win64)\n",
      "Optimize a model with 500 rows, 100 columns and 1000 nonzeros\n",
      "Model fingerprint: 0x3c1811da\n",
      "Variable types: 0 continuous, 100 integer (100 binary)\n",
      "Coefficient statistics:\n",
      "  Matrix range     [1e+00, 1e+00]\n",
      "  Objective range  [1e+00, 2e+01]\n",
      "  Bounds range     [0e+00, 0e+00]\n",
      "  RHS range        [1e+00, 1e+00]\n",
      "Variable types: 0 continuous, 100 integer (100 binary)\n",
      "\n",
      "Root relaxation: objective 5.145000e+02, 63 iterations, 0.00 seconds\n",
      "\n",
      "    Nodes    |    Current Node    |     Objective Bounds      |     Work\n",
      " Expl Unexpl |  Obj  Depth IntInf | Incumbent    BestBd   Gap | It/Node Time\n",
      "\n",
      "     0     0  514.50000    0   97          -  514.50000      -     -    0s\n",
      "     0     0  514.50000    0   97          -  514.50000      -     -    0s\n",
      "     0     2  514.50000    0   97          -  514.50000      -     -    0s\n",
      "*   97   106              18     304.0000000  494.00000  62.5%  11.6    0s\n",
      "*  114   114              18     320.0000000  494.00000  54.4%  11.1    0s\n",
      "*  126   114              14     328.0000000  494.00000  50.6%  10.8    0s\n",
      "*  128   114              16     336.0000000  494.00000  47.0%  10.6    0s\n",
      "*  216   150              16     337.0000000  448.00000  32.9%  11.1    0s\n",
      "*  220   150              19     341.0000000  448.00000  31.4%  11.1    0s\n",
      "*  324   188              16     363.0000000  435.00000  19.8%  11.1    0s\n",
      "*  381   183               9     366.0000000  432.00000  18.0%  10.7    0s\n",
      "*  488   194              11     372.0000000  423.00000  13.7%  10.6    0s\n",
      "\n",
      "Explored 1023 nodes (10262 simplex iterations) in 0.09 seconds\n",
      "Thread count was 8 (of 8 available processors)\n",
      "\n",
      "Solution count 9: 372 366 363 ... 304\n",
      "\n",
      "Optimal solution found (tolerance 1.00e-04)\n",
      "Best objective 3.720000000000e+02, best bound 3.720000000000e+02, gap 0.0000%\n"
     ]
    }
   ],
   "source": [
    "Branch_Bound(A,c)"
   ]
  },
  {
   "cell_type": "code",
   "execution_count": 18,
   "metadata": {},
   "outputs": [],
   "source": [
    "fname = \"Instances\\\\Data\\\\pb_200rnd0100.dat\"; \n",
    "c, A = loadSPP(fname);"
   ]
  },
  {
   "cell_type": "code",
   "execution_count": 19,
   "metadata": {},
   "outputs": [
    {
     "name": "stdout",
     "output_type": "stream",
     "text": [
      "Academic license - for non-commercial use only\n",
      "Solving...\n",
      "Academic license - for non-commercial use only\n",
      "Gurobi Optimizer version 9.0.3 build v9.0.3rc0 (win64)\n",
      "Optimize a model with 1000 rows, 200 columns and 2978 nonzeros\n",
      "Model fingerprint: 0x8f82369d\n",
      "Variable types: 0 continuous, 200 integer (200 binary)\n",
      "Coefficient statistics:\n",
      "  Matrix range     [1e+00, 1e+00]\n",
      "  Objective range  [1e+00, 2e+01]\n",
      "  Bounds range     [0e+00, 0e+00]\n",
      "  RHS range        [1e+00, 1e+00]\n",
      "Variable types: 0 continuous, 200 integer (200 binary)\n",
      "\n",
      "Root relaxation: objective 5.810675e+02, 720 iterations, 0.05 seconds\n",
      "\n",
      "    Nodes    |    Current Node    |     Objective Bounds      |     Work\n",
      " Expl Unexpl |  Obj  Depth IntInf | Incumbent    BestBd   Gap | It/Node Time\n",
      "\n",
      "     0     0  581.06750    0  176          -  581.06750      -     -    0s\n",
      "     0     0  581.06750    0  176          -  581.06750      -     -    0s\n",
      "     0     2  581.06750    0  176          -  581.06750      -     -    0s\n",
      "*  173   173              37     306.0000000  580.19047  89.6%  40.0    0s\n",
      "*  205   200              58     325.0000000  580.19047  78.5%  41.3    0s\n",
      "*  214   200              57     351.0000000  580.19047  65.3%  42.0    0s\n",
      "*  230   215              42     387.0000000  580.19047  49.9%  43.4    0s\n",
      "*  339   232              16     392.0000000  577.97706  47.4%  53.9    0s\n",
      "*  346   232              18     396.0000000  577.97706  46.0%  53.2    0s\n",
      "*  689   319              34     401.0000000  551.72372  37.6%  61.1    1s\n",
      "  2070   914  496.83044   15  171  401.00000  496.83044  23.9%  61.3    5s\n",
      "* 3554  1215              29     403.0000000  495.24854  22.9%  68.8    8s\n",
      "* 4614  1257              31     406.0000000  487.99401  20.2%  66.2    9s\n",
      "  5751  1630     cutoff   30       406.00000  476.08732  17.3%  64.0   10s\n",
      "* 6069  1676              30     407.0000000  473.87607  16.4%  63.4   10s\n",
      "* 6070  1627              29     412.0000000  473.87607  15.0%  63.3   10s\n",
      "* 6071  1589              28     414.0000000  473.87607  14.5%  63.3   10s\n",
      "* 7465  1798              30     415.0000000  467.11765  12.6%  61.7   11s\n",
      " 11808  2002     cutoff   30       415.00000  449.65250  8.35%  58.2   15s\n",
      "*15904  1261              28     416.0000000  438.00000  5.29%  55.4   17s\n",
      "\n",
      "Explored 18864 nodes (992378 simplex iterations) in 19.03 seconds\n",
      "Thread count was 8 (of 8 available processors)\n",
      "\n",
      "Solution count 10: 416 415 414 ... 392\n",
      "\n",
      "Optimal solution found (tolerance 1.00e-04)\n",
      "Best objective 4.160000000000e+02, best bound 4.160000000000e+02, gap 0.0000%\n"
     ]
    }
   ],
   "source": [
    "Branch_Bound(A,c)"
   ]
  },
  {
   "cell_type": "code",
   "execution_count": 20,
   "metadata": {},
   "outputs": [
    {
     "name": "stdout",
     "output_type": "stream",
     "text": [
      "Academic license - for non-commercial use only\n",
      "Solving...\n",
      "Academic license - for non-commercial use only\n",
      "Gurobi Optimizer version 9.0.3 build v9.0.3rc0 (win64)\n",
      "Optimize a model with 1000 rows, 200 columns and 2978 nonzeros\n",
      "Model fingerprint: 0x8f82369d\n",
      "Variable types: 0 continuous, 200 integer (200 binary)\n",
      "Coefficient statistics:\n",
      "  Matrix range     [1e+00, 1e+00]\n",
      "  Objective range  [1e+00, 2e+01]\n",
      "  Bounds range     [0e+00, 0e+00]\n",
      "  RHS range        [1e+00, 1e+00]\n",
      "Variable types: 0 continuous, 200 integer (200 binary)\n",
      "\n",
      "Root relaxation: objective 5.810675e+02, 720 iterations, 0.07 seconds\n",
      "\n",
      "    Nodes    |    Current Node    |     Objective Bounds      |     Work\n",
      " Expl Unexpl |  Obj  Depth IntInf | Incumbent    BestBd   Gap | It/Node Time\n",
      "\n",
      "     0     0  581.06750    0  176          -  581.06750      -     -    0s\n",
      "     0     0  536.71608    0  178          -  536.71608      -     -    0s\n",
      "     0     0  535.90817    0  177          -  535.90817      -     -    0s\n",
      "     0     0  535.55596    0  180          -  535.55596      -     -    0s\n",
      "     0     0  535.54053    0  180          -  535.54053      -     -    0s\n",
      "     0     0  527.29593    0  176          -  527.29593      -     -    0s\n",
      "     0     0  525.49723    0  175          -  525.49723      -     -    0s\n",
      "     0     0  525.08434    0  179          -  525.08434      -     -    0s\n",
      "     0     0  525.07852    0  179          -  525.07852      -     -    0s\n",
      "     0     0  523.94406    0  179          -  523.94406      -     -    0s\n",
      "     0     0  523.48312    0  177          -  523.48312      -     -    0s\n",
      "     0     0  523.46627    0  179          -  523.46627      -     -    0s\n",
      "     0     0  522.97409    0  178          -  522.97409      -     -    0s\n",
      "     0     0  522.90334    0  179          -  522.90334      -     -    0s\n",
      "     0     0  522.83470    0  182          -  522.83470      -     -    0s\n",
      "     0     0  522.79717    0  181          -  522.79717      -     -    0s\n",
      "     0     0  522.79717    0  184          -  522.79717      -     -    0s\n",
      "     0     0  522.50152    0  183          -  522.50152      -     -    0s\n",
      "     0     0  522.35768    0  185          -  522.35768      -     -    0s\n",
      "     0     0  522.34925    0  184          -  522.34925      -     -    0s\n",
      "     0     0  522.21440    0  184          -  522.21440      -     -    0s\n",
      "     0     0  522.17889    0  181          -  522.17889      -     -    0s\n",
      "     0     0  522.16868    0  181          -  522.16868      -     -    0s\n",
      "     0     0  522.15935    0  180          -  522.15935      -     -    0s\n",
      "     0     0  522.15826    0  180          -  522.15826      -     -    0s\n",
      "     0     0  522.15809    0  181          -  522.15809      -     -    0s\n",
      "     0     0  522.15809    0  181          -  522.15809      -     -    0s\n",
      "     0     2  522.15809    0  181          -  522.15809      -     -    0s\n",
      "*   71    77              16     385.0000000  513.98676  33.5%  94.9    0s\n",
      "*  132   109              13     399.0000000  509.42283  27.7%  86.7    0s\n",
      "*  133   109              14     400.0000000  509.42283  27.4%  86.1    0s\n",
      "*  396   220              19     401.0000000  488.45470  21.8%  85.8    1s\n",
      "*  799   385              13     402.0000000  476.98408  18.7%  84.4    2s\n",
      "* 1260   519              17     411.0000000  469.29562  14.2%  79.6    3s\n",
      "  2398   725     cutoff   14       411.00000  455.06402  10.7%  75.2    5s\n",
      "* 3658   802              12     414.0000000  447.61019  8.12%  70.8    6s\n",
      "* 5151   725              11     416.0000000  438.54211  5.42%  68.2    8s\n",
      "  6248   223  420.20290   10   90  416.00000  430.43137  3.47%  65.9   10s\n",
      "\n",
      "Cutting planes:\n",
      "  Clique: 213\n",
      "\n",
      "Explored 6846 nodes (437276 simplex iterations) in 10.29 seconds\n",
      "Thread count was 8 (of 8 available processors)\n",
      "\n",
      "Solution count 8: 416 414 411 ... 385\n",
      "\n",
      "Optimal solution found (tolerance 1.00e-04)\n",
      "Best objective 4.160000000000e+02, best bound 4.160000000000e+02, gap 0.0000%\n"
     ]
    }
   ],
   "source": [
    "Branch_Cut(A,c)"
   ]
  },
  {
   "cell_type": "code",
   "execution_count": 21,
   "metadata": {},
   "outputs": [],
   "source": [
    "fname = \"Instances\\\\Data\\\\pb_500rnd0100.dat\"; \n",
    "c, A = loadSPP(fname);"
   ]
  },
  {
   "cell_type": "code",
   "execution_count": null,
   "metadata": {},
   "outputs": [],
   "source": [
    "Branch_Cut(A,c)"
   ]
  },
  {
   "cell_type": "markdown",
   "metadata": {},
   "source": [
    "## Instâncias Aleatórias "
   ]
  },
  {
   "cell_type": "code",
   "execution_count": null,
   "metadata": {},
   "outputs": [],
   "source": [
    "rng = MersenneTwister(10000)\n",
    "# \n",
    "A = bitrand(rng,(25,25))\n",
    "c = 100*rand(25,1)\n",
    "c = floor.(c); #.+ 1;"
   ]
  },
  {
   "cell_type": "code",
   "execution_count": null,
   "metadata": {},
   "outputs": [],
   "source": [
    "Branch_Bound(A,c)"
   ]
  },
  {
   "cell_type": "code",
   "execution_count": null,
   "metadata": {},
   "outputs": [],
   "source": [
    "Branch_Cut(A,c)"
   ]
  }
 ],
 "metadata": {
  "kernelspec": {
   "display_name": "Julia 1.4.2",
   "language": "julia",
   "name": "julia-1.4"
  },
  "language_info": {
   "file_extension": ".jl",
   "mimetype": "application/julia",
   "name": "julia",
   "version": "1.4.2"
  }
 },
 "nbformat": 4,
 "nbformat_minor": 2
}
